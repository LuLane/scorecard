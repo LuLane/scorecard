{
 "cells": [
  {
   "cell_type": "code",
   "execution_count": 3,
   "metadata": {
    "collapsed": true
   },
   "outputs": [],
   "source": [
    "import pandas as pd\n",
    "import numpy as np\n",
    "import re\n",
    "import time\n",
    "import datetime\n",
    "import pickle\n",
    "from dateutil.relativedelta import relativedelta\n",
    "import matplotlib.pyplot as plt\n",
    "import seaborn as sns\n",
    "\n",
    "from sklearn.linear_model import LogisticRegressionCV\n",
    "import statsmodels.api as sm\n",
    "from sklearn.ensemble import RandomForestClassifier\n",
    "from sklearn.metrics import roc_auc_score\n",
    "\n",
    "import func \n"
   ]
  },
  {
   "cell_type": "code",
   "execution_count": 4,
   "metadata": {},
   "outputs": [
    {
     "name": "stderr",
     "output_type": "stream",
     "text": [
      "c:\\users\\xn070393\\appdata\\local\\programs\\python\\python35\\lib\\site-packages\\IPython\\core\\interactiveshell.py:2698: DtypeWarning: Columns (19,55) have mixed types. Specify dtype option on import or set low_memory=False.\n",
      "  interactivity=interactivity, compiler=compiler, result=result)\n"
     ]
    }
   ],
   "source": [
    "#读取数据，查看数据基本情况\n",
    "df = pd.read_csv('loan.csv')"
   ]
  },
  {
   "cell_type": "code",
   "execution_count": 5,
   "metadata": {},
   "outputs": [
    {
     "data": {
      "text/html": [
       "<div>\n",
       "<style>\n",
       "    .dataframe thead tr:only-child th {\n",
       "        text-align: right;\n",
       "    }\n",
       "\n",
       "    .dataframe thead th {\n",
       "        text-align: left;\n",
       "    }\n",
       "\n",
       "    .dataframe tbody tr th {\n",
       "        vertical-align: top;\n",
       "    }\n",
       "</style>\n",
       "<table border=\"1\" class=\"dataframe\">\n",
       "  <thead>\n",
       "    <tr style=\"text-align: right;\">\n",
       "      <th></th>\n",
       "      <th>id</th>\n",
       "      <th>member_id</th>\n",
       "      <th>loan_amnt</th>\n",
       "      <th>funded_amnt</th>\n",
       "      <th>funded_amnt_inv</th>\n",
       "      <th>term</th>\n",
       "      <th>int_rate</th>\n",
       "      <th>installment</th>\n",
       "      <th>grade</th>\n",
       "      <th>sub_grade</th>\n",
       "      <th>...</th>\n",
       "      <th>total_bal_il</th>\n",
       "      <th>il_util</th>\n",
       "      <th>open_rv_12m</th>\n",
       "      <th>open_rv_24m</th>\n",
       "      <th>max_bal_bc</th>\n",
       "      <th>all_util</th>\n",
       "      <th>total_rev_hi_lim</th>\n",
       "      <th>inq_fi</th>\n",
       "      <th>total_cu_tl</th>\n",
       "      <th>inq_last_12m</th>\n",
       "    </tr>\n",
       "  </thead>\n",
       "  <tbody>\n",
       "    <tr>\n",
       "      <th>0</th>\n",
       "      <td>1077501</td>\n",
       "      <td>1296599</td>\n",
       "      <td>5000.0</td>\n",
       "      <td>5000.0</td>\n",
       "      <td>4975.0</td>\n",
       "      <td>36 months</td>\n",
       "      <td>10.65</td>\n",
       "      <td>162.87</td>\n",
       "      <td>B</td>\n",
       "      <td>B2</td>\n",
       "      <td>...</td>\n",
       "      <td>NaN</td>\n",
       "      <td>NaN</td>\n",
       "      <td>NaN</td>\n",
       "      <td>NaN</td>\n",
       "      <td>NaN</td>\n",
       "      <td>NaN</td>\n",
       "      <td>NaN</td>\n",
       "      <td>NaN</td>\n",
       "      <td>NaN</td>\n",
       "      <td>NaN</td>\n",
       "    </tr>\n",
       "    <tr>\n",
       "      <th>1</th>\n",
       "      <td>1077430</td>\n",
       "      <td>1314167</td>\n",
       "      <td>2500.0</td>\n",
       "      <td>2500.0</td>\n",
       "      <td>2500.0</td>\n",
       "      <td>60 months</td>\n",
       "      <td>15.27</td>\n",
       "      <td>59.83</td>\n",
       "      <td>C</td>\n",
       "      <td>C4</td>\n",
       "      <td>...</td>\n",
       "      <td>NaN</td>\n",
       "      <td>NaN</td>\n",
       "      <td>NaN</td>\n",
       "      <td>NaN</td>\n",
       "      <td>NaN</td>\n",
       "      <td>NaN</td>\n",
       "      <td>NaN</td>\n",
       "      <td>NaN</td>\n",
       "      <td>NaN</td>\n",
       "      <td>NaN</td>\n",
       "    </tr>\n",
       "    <tr>\n",
       "      <th>2</th>\n",
       "      <td>1077175</td>\n",
       "      <td>1313524</td>\n",
       "      <td>2400.0</td>\n",
       "      <td>2400.0</td>\n",
       "      <td>2400.0</td>\n",
       "      <td>36 months</td>\n",
       "      <td>15.96</td>\n",
       "      <td>84.33</td>\n",
       "      <td>C</td>\n",
       "      <td>C5</td>\n",
       "      <td>...</td>\n",
       "      <td>NaN</td>\n",
       "      <td>NaN</td>\n",
       "      <td>NaN</td>\n",
       "      <td>NaN</td>\n",
       "      <td>NaN</td>\n",
       "      <td>NaN</td>\n",
       "      <td>NaN</td>\n",
       "      <td>NaN</td>\n",
       "      <td>NaN</td>\n",
       "      <td>NaN</td>\n",
       "    </tr>\n",
       "    <tr>\n",
       "      <th>3</th>\n",
       "      <td>1076863</td>\n",
       "      <td>1277178</td>\n",
       "      <td>10000.0</td>\n",
       "      <td>10000.0</td>\n",
       "      <td>10000.0</td>\n",
       "      <td>36 months</td>\n",
       "      <td>13.49</td>\n",
       "      <td>339.31</td>\n",
       "      <td>C</td>\n",
       "      <td>C1</td>\n",
       "      <td>...</td>\n",
       "      <td>NaN</td>\n",
       "      <td>NaN</td>\n",
       "      <td>NaN</td>\n",
       "      <td>NaN</td>\n",
       "      <td>NaN</td>\n",
       "      <td>NaN</td>\n",
       "      <td>NaN</td>\n",
       "      <td>NaN</td>\n",
       "      <td>NaN</td>\n",
       "      <td>NaN</td>\n",
       "    </tr>\n",
       "    <tr>\n",
       "      <th>4</th>\n",
       "      <td>1075358</td>\n",
       "      <td>1311748</td>\n",
       "      <td>3000.0</td>\n",
       "      <td>3000.0</td>\n",
       "      <td>3000.0</td>\n",
       "      <td>60 months</td>\n",
       "      <td>12.69</td>\n",
       "      <td>67.79</td>\n",
       "      <td>B</td>\n",
       "      <td>B5</td>\n",
       "      <td>...</td>\n",
       "      <td>NaN</td>\n",
       "      <td>NaN</td>\n",
       "      <td>NaN</td>\n",
       "      <td>NaN</td>\n",
       "      <td>NaN</td>\n",
       "      <td>NaN</td>\n",
       "      <td>NaN</td>\n",
       "      <td>NaN</td>\n",
       "      <td>NaN</td>\n",
       "      <td>NaN</td>\n",
       "    </tr>\n",
       "  </tbody>\n",
       "</table>\n",
       "<p>5 rows × 74 columns</p>\n",
       "</div>"
      ],
      "text/plain": [
       "        id  member_id  loan_amnt  funded_amnt  funded_amnt_inv        term  \\\n",
       "0  1077501    1296599     5000.0       5000.0           4975.0   36 months   \n",
       "1  1077430    1314167     2500.0       2500.0           2500.0   60 months   \n",
       "2  1077175    1313524     2400.0       2400.0           2400.0   36 months   \n",
       "3  1076863    1277178    10000.0      10000.0          10000.0   36 months   \n",
       "4  1075358    1311748     3000.0       3000.0           3000.0   60 months   \n",
       "\n",
       "   int_rate  installment grade sub_grade     ...      total_bal_il il_util  \\\n",
       "0     10.65       162.87     B        B2     ...               NaN     NaN   \n",
       "1     15.27        59.83     C        C4     ...               NaN     NaN   \n",
       "2     15.96        84.33     C        C5     ...               NaN     NaN   \n",
       "3     13.49       339.31     C        C1     ...               NaN     NaN   \n",
       "4     12.69        67.79     B        B5     ...               NaN     NaN   \n",
       "\n",
       "  open_rv_12m  open_rv_24m max_bal_bc all_util total_rev_hi_lim inq_fi  \\\n",
       "0         NaN          NaN        NaN      NaN              NaN    NaN   \n",
       "1         NaN          NaN        NaN      NaN              NaN    NaN   \n",
       "2         NaN          NaN        NaN      NaN              NaN    NaN   \n",
       "3         NaN          NaN        NaN      NaN              NaN    NaN   \n",
       "4         NaN          NaN        NaN      NaN              NaN    NaN   \n",
       "\n",
       "  total_cu_tl inq_last_12m  \n",
       "0         NaN          NaN  \n",
       "1         NaN          NaN  \n",
       "2         NaN          NaN  \n",
       "3         NaN          NaN  \n",
       "4         NaN          NaN  \n",
       "\n",
       "[5 rows x 74 columns]"
      ]
     },
     "execution_count": 5,
     "metadata": {},
     "output_type": "execute_result"
    }
   ],
   "source": [
    "df.head()"
   ]
  },
  {
   "cell_type": "code",
   "execution_count": 6,
   "metadata": {},
   "outputs": [
    {
     "data": {
      "text/plain": [
       "Index(['id', 'member_id', 'loan_amnt', 'funded_amnt', 'funded_amnt_inv',\n",
       "       'term', 'int_rate', 'installment', 'grade', 'sub_grade', 'emp_title',\n",
       "       'emp_length', 'home_ownership', 'annual_inc', 'verification_status',\n",
       "       'issue_d', 'loan_status', 'pymnt_plan', 'url', 'desc', 'purpose',\n",
       "       'title', 'zip_code', 'addr_state', 'dti', 'delinq_2yrs',\n",
       "       'earliest_cr_line', 'inq_last_6mths', 'mths_since_last_delinq',\n",
       "       'mths_since_last_record', 'open_acc', 'pub_rec', 'revol_bal',\n",
       "       'revol_util', 'total_acc', 'initial_list_status', 'out_prncp',\n",
       "       'out_prncp_inv', 'total_pymnt', 'total_pymnt_inv', 'total_rec_prncp',\n",
       "       'total_rec_int', 'total_rec_late_fee', 'recoveries',\n",
       "       'collection_recovery_fee', 'last_pymnt_d', 'last_pymnt_amnt',\n",
       "       'next_pymnt_d', 'last_credit_pull_d', 'collections_12_mths_ex_med',\n",
       "       'mths_since_last_major_derog', 'policy_code', 'application_type',\n",
       "       'annual_inc_joint', 'dti_joint', 'verification_status_joint',\n",
       "       'acc_now_delinq', 'tot_coll_amt', 'tot_cur_bal', 'open_acc_6m',\n",
       "       'open_il_6m', 'open_il_12m', 'open_il_24m', 'mths_since_rcnt_il',\n",
       "       'total_bal_il', 'il_util', 'open_rv_12m', 'open_rv_24m', 'max_bal_bc',\n",
       "       'all_util', 'total_rev_hi_lim', 'inq_fi', 'total_cu_tl',\n",
       "       'inq_last_12m'],\n",
       "      dtype='object')"
      ]
     },
     "execution_count": 6,
     "metadata": {},
     "output_type": "execute_result"
    }
   ],
   "source": [
    "df.columns"
   ]
  },
  {
   "cell_type": "code",
   "execution_count": 7,
   "metadata": {
    "collapsed": true
   },
   "outputs": [],
   "source": [
    "#剔除贷中数据和id,member_id\n",
    "df = df.drop(['id', 'member_id', 'url','next_pymnt_d','last_pymnt_d','pymnt_plan','application_type',\n",
    "             'last_credit_pull_d','title','sub_grade','total_rec_prncp','total_rec_int','out_prncp','policy_code',\n",
    "             'last_pymnt_amnt','installment','total_pymnt_inv', 'total_rec_prncp','total_rec_int'], axis=1)\n"
   ]
  },
  {
   "cell_type": "code",
   "execution_count": 8,
   "metadata": {
    "collapsed": true
   },
   "outputs": [],
   "source": [
    "'''\n",
    "df = df.dropna(subset=['issue_d', 'earliest_cr_line'])\n",
    "df.drop([484446,531886],inplace=True)\n",
    "\n",
    "'''\n"
   ]
  },
  {
   "cell_type": "code",
   "execution_count": 9,
   "metadata": {
    "collapsed": true
   },
   "outputs": [],
   "source": [
    "#数据预处理\n",
    "\n",
    "\n",
    "#处理term，去除months转化为数值\n",
    "\n",
    "df['term'] = df['term'].apply(lambda x: int(x.replace('months' , '')))\n",
    "df = df.loc[df.term == 36]\n",
    "\n",
    "#处理目标值loan_status，将Charged Off 和Late (31-120 days)归为逾期，列为1\n",
    "df['y'] = df['loan_status'].map(lambda x : int((x=='Charged Off') | (x == 'Late (31-120 days)')))\n",
    "\n",
    "#处理工作时间emp_length\n",
    "def workYear(x):\n",
    "    x = str(x)\n",
    "    if x.find('n/a')>-1:\n",
    "        return -1\n",
    "    elif x.find('<1')>-1 :\n",
    "        return 0\n",
    "    elif x.find(\"10+\") >-1:\n",
    "        return 11\n",
    "    else :\n",
    "        return int(re.sub(\"\\D\", \"\", x))\n",
    "\n",
    "df['emp_length'] = df['emp_length'].map(workYear)\n",
    "\n",
    "#将desc缺失作为一种状态，非缺失作为一种\n",
    "def Desc(x):\n",
    "    if type(x).__name__ == 'float':\n",
    "        return 'no desc'\n",
    "    else:\n",
    "        return 'desc'\n",
    "\n",
    "df['desc'] = df['desc'].map(Desc)\n",
    "\n",
    "#处理时间,earliest_cr_line（第一次借贷时间）和issue_d（申请时间）\n",
    "\n",
    "def ConvertDate(x):\n",
    "\n",
    "    mth_dict = {'Jan': 1, 'Feb': 2, 'Mar': 3, 'Apr': 4, 'May': 5, 'Jun': 6, 'Jul': 7, 'Aug': 8, 'Sep': 9, 'Oct': 10,\n",
    "                'Nov': 11, 'Dec': 12}\n",
    "    yr = int(x[4:6])\n",
    "    mth = mth_dict[x[:3]]\n",
    "    return datetime.datetime(yr, mth, 1)\n",
    "df['issue_d'] = df['issue_d'].map(lambda x :ConvertDate(x))\n",
    "df['earliest_cr_line'] = df['earliest_cr_line'].map(lambda x: ConvertDate(x))\n",
    "\n",
    "#处理mths_since_last_delinq，用-1代替缺失值，有值用0\n",
    "\n",
    "def missing(x):\n",
    "    if np.isnan(x):\n",
    "        return -1\n",
    "    else:\n",
    "        return x\n",
    "    \n",
    "df['mths_since_last_delinq'] = df['mths_since_last_delinq'].map(lambda x: missing(x))\n",
    "df['mths_since_last_record'] = df['mths_since_last_record'].map(lambda x: missing(x))\n",
    "#df['pub_rec_bankruptcies'] = df['pub_rec_bankruptcies'].map(lambda x: missing(x))      \n",
    "        \n"
   ]
  },
  {
   "cell_type": "code",
   "execution_count": 10,
   "metadata": {},
   "outputs": [
    {
     "data": {
      "text/html": [
       "<div>\n",
       "<style>\n",
       "    .dataframe thead tr:only-child th {\n",
       "        text-align: right;\n",
       "    }\n",
       "\n",
       "    .dataframe thead th {\n",
       "        text-align: left;\n",
       "    }\n",
       "\n",
       "    .dataframe tbody tr th {\n",
       "        vertical-align: top;\n",
       "    }\n",
       "</style>\n",
       "<table border=\"1\" class=\"dataframe\">\n",
       "  <thead>\n",
       "    <tr style=\"text-align: right;\">\n",
       "      <th></th>\n",
       "      <th>count</th>\n",
       "      <th>unique</th>\n",
       "      <th>top</th>\n",
       "      <th>freq</th>\n",
       "      <th>missing_percent</th>\n",
       "    </tr>\n",
       "  </thead>\n",
       "  <tbody>\n",
       "    <tr>\n",
       "      <th>grade</th>\n",
       "      <td>621094</td>\n",
       "      <td>7</td>\n",
       "      <td>B</td>\n",
       "      <td>211999</td>\n",
       "      <td>0.000000</td>\n",
       "    </tr>\n",
       "    <tr>\n",
       "      <th>emp_title</th>\n",
       "      <td>579516</td>\n",
       "      <td>225375</td>\n",
       "      <td>Teacher</td>\n",
       "      <td>9071</td>\n",
       "      <td>0.066943</td>\n",
       "    </tr>\n",
       "    <tr>\n",
       "      <th>home_ownership</th>\n",
       "      <td>621094</td>\n",
       "      <td>6</td>\n",
       "      <td>MORTGAGE</td>\n",
       "      <td>288371</td>\n",
       "      <td>0.000000</td>\n",
       "    </tr>\n",
       "    <tr>\n",
       "      <th>verification_status</th>\n",
       "      <td>621094</td>\n",
       "      <td>3</td>\n",
       "      <td>Not Verified</td>\n",
       "      <td>222816</td>\n",
       "      <td>0.000000</td>\n",
       "    </tr>\n",
       "    <tr>\n",
       "      <th>issue_d</th>\n",
       "      <td>621094</td>\n",
       "      <td>12</td>\n",
       "      <td>0020-10-01 00:00:00</td>\n",
       "      <td>77932</td>\n",
       "      <td>0.000000</td>\n",
       "    </tr>\n",
       "    <tr>\n",
       "      <th>loan_status</th>\n",
       "      <td>621094</td>\n",
       "      <td>10</td>\n",
       "      <td>Current</td>\n",
       "      <td>402846</td>\n",
       "      <td>0.000000</td>\n",
       "    </tr>\n",
       "    <tr>\n",
       "      <th>desc</th>\n",
       "      <td>621094</td>\n",
       "      <td>2</td>\n",
       "      <td>no desc</td>\n",
       "      <td>524071</td>\n",
       "      <td>0.000000</td>\n",
       "    </tr>\n",
       "    <tr>\n",
       "      <th>purpose</th>\n",
       "      <td>621094</td>\n",
       "      <td>14</td>\n",
       "      <td>debt_consolidation</td>\n",
       "      <td>351846</td>\n",
       "      <td>0.000000</td>\n",
       "    </tr>\n",
       "    <tr>\n",
       "      <th>zip_code</th>\n",
       "      <td>621094</td>\n",
       "      <td>920</td>\n",
       "      <td>945xx</td>\n",
       "      <td>7165</td>\n",
       "      <td>0.000000</td>\n",
       "    </tr>\n",
       "    <tr>\n",
       "      <th>addr_state</th>\n",
       "      <td>621094</td>\n",
       "      <td>51</td>\n",
       "      <td>CA</td>\n",
       "      <td>96191</td>\n",
       "      <td>0.000000</td>\n",
       "    </tr>\n",
       "    <tr>\n",
       "      <th>earliest_cr_line</th>\n",
       "      <td>621094</td>\n",
       "      <td>24</td>\n",
       "      <td>0020-08-01 00:00:00</td>\n",
       "      <td>32365</td>\n",
       "      <td>0.000000</td>\n",
       "    </tr>\n",
       "    <tr>\n",
       "      <th>initial_list_status</th>\n",
       "      <td>621094</td>\n",
       "      <td>2</td>\n",
       "      <td>f</td>\n",
       "      <td>346554</td>\n",
       "      <td>0.000000</td>\n",
       "    </tr>\n",
       "    <tr>\n",
       "      <th>verification_status_joint</th>\n",
       "      <td>237</td>\n",
       "      <td>3</td>\n",
       "      <td>Not Verified</td>\n",
       "      <td>138</td>\n",
       "      <td>0.999618</td>\n",
       "    </tr>\n",
       "  </tbody>\n",
       "</table>\n",
       "</div>"
      ],
      "text/plain": [
       "                            count  unique                  top    freq  \\\n",
       "grade                      621094       7                    B  211999   \n",
       "emp_title                  579516  225375              Teacher    9071   \n",
       "home_ownership             621094       6             MORTGAGE  288371   \n",
       "verification_status        621094       3         Not Verified  222816   \n",
       "issue_d                    621094      12  0020-10-01 00:00:00   77932   \n",
       "loan_status                621094      10              Current  402846   \n",
       "desc                       621094       2              no desc  524071   \n",
       "purpose                    621094      14   debt_consolidation  351846   \n",
       "zip_code                   621094     920                945xx    7165   \n",
       "addr_state                 621094      51                   CA   96191   \n",
       "earliest_cr_line           621094      24  0020-08-01 00:00:00   32365   \n",
       "initial_list_status        621094       2                    f  346554   \n",
       "verification_status_joint     237       3         Not Verified     138   \n",
       "\n",
       "                           missing_percent  \n",
       "grade                             0.000000  \n",
       "emp_title                         0.066943  \n",
       "home_ownership                    0.000000  \n",
       "verification_status               0.000000  \n",
       "issue_d                           0.000000  \n",
       "loan_status                       0.000000  \n",
       "desc                              0.000000  \n",
       "purpose                           0.000000  \n",
       "zip_code                          0.000000  \n",
       "addr_state                        0.000000  \n",
       "earliest_cr_line                  0.000000  \n",
       "initial_list_status               0.000000  \n",
       "verification_status_joint         0.999618  "
      ]
     },
     "execution_count": 10,
     "metadata": {},
     "output_type": "execute_result"
    }
   ],
   "source": [
    "df.describe(include=['O']).T.assign(missing_percent = df.apply(lambda x : (len(x) - x.count())/len(x)))"
   ]
  },
  {
   "cell_type": "code",
   "execution_count": 11,
   "metadata": {
    "collapsed": true
   },
   "outputs": [],
   "source": [
    "a = df.describe().T.assign(missing_percent = df.apply(lambda x : (len(x) - x.count())/len(x)))\n"
   ]
  },
  {
   "cell_type": "code",
   "execution_count": 15,
   "metadata": {
    "collapsed": true
   },
   "outputs": [],
   "source": [
    "\n",
    "#删除缺失值大于97%的变量\n",
    "df.dropna(thresh=len(data) *0.03, axis=1, inplace=True)"
   ]
  },
  {
   "cell_type": "code",
   "execution_count": 16,
   "metadata": {
    "collapsed": true
   },
   "outputs": [],
   "source": [
    "#衍生变量\n",
    "\n",
    "#申请金额与收入的占比\n",
    "df['limit_income'] = df.apply(lambda x:x.loan_amnt /x.annual_inc, axis=1)\n",
    "\n",
    "#申请时间和第一次贷款时间之前的差值\n",
    "def MonthGap(earlyDate, lateDate):\n",
    "    if lateDate > earlyDate:\n",
    "        gap = relativedelta(lateDate, earlyDate)\n",
    "        yr = gap.years\n",
    "        mth = gap.months\n",
    "        return yr*12 + mth\n",
    "    else:\n",
    "        return 0\n",
    "df['earliest_cr_to_app'] = df.apply(lambda x : MonthGap(x.earliest_cr_line, x.issue_d),axis=1)"
   ]
  },
  {
   "cell_type": "code",
   "execution_count": 17,
   "metadata": {
    "collapsed": true
   },
   "outputs": [],
   "source": [
    "df = df.drop(['mths_since_last_record','mths_since_last_major_derog',\n",
    "'mths_since_last_delinq','emp_title'], axis=1)\n"
   ]
  },
  {
   "cell_type": "code",
   "execution_count": 18,
   "metadata": {
    "collapsed": true
   },
   "outputs": [],
   "source": [
    "#t替换缺失值\n",
    "for col in ['total_rev_hi_lim' ,'tot_cur_bal','tot_coll_amt','collections_12_mths_ex_med', 'revol_util']:\n",
    "    df[col] = df[col].map(lambda x : missing(x))"
   ]
  },
  {
   "cell_type": "code",
   "execution_count": 19,
   "metadata": {
    "collapsed": true
   },
   "outputs": [],
   "source": [
    "#将字符型的数据转化为数值型，因为评分卡要WOE转化不用进行归一化或独热编码\n",
    "map_list = {'grade' : {\"A\": 0,\"B\": 1,\"C\": 2, \"D\": 3, \"E\": 4,\"F\": 5,\"G\": 6},\n",
    "           \"verification_status\":\n",
    "                   {\"Not Verified\":0,\"Source Verified\":1,\"Verified\":2},\n",
    "               \"purpose\":\n",
    "                   {\"credit_card\":0,\"home_improvement\":1,\"debt_consolidation\":2,       \n",
    "                    \"other\":3,\"major_purchase\":4,\"medical\":5,\"small_business\":6,\n",
    "                    \"car\":7,\"vacation\":8,\"moving\":9, \"house\":10, \n",
    "                    \"renewable_energy\":11,\"wedding\":12},\n",
    "               \"home_ownership\":\n",
    "                   {\"MORTGAGE\":0,\"ANY\":1,\"NONE\":2,\"OWN\":3,\"RENT\":4},\n",
    "           \"initial_list_status\": \n",
    "                   {\"w\": 0,\"f\": 1,}}\n",
    "df = df.replace(map_list)"
   ]
  },
  {
   "cell_type": "code",
   "execution_count": 20,
   "metadata": {
    "collapsed": true
   },
   "outputs": [],
   "source": [
    "df = df.drop('term', axis=1)"
   ]
  },
  {
   "cell_type": "code",
   "execution_count": 21,
   "metadata": {
    "collapsed": true
   },
   "outputs": [],
   "source": [
    "\n",
    "total = df.groupby(['addr_state'])['y'].count()\n",
    "total = pd.DataFrame({\"total\" : total})\n",
    "bad = df.groupby(['addr_state'])['y'].sum()\n",
    "bad = pd.DataFrame({\"bad\" : bad})\n",
    "regroup = total.merge(bad, left_index=True, right_index=True,how=\"left\")\n",
    "regroup.reset_index(level=0, inplace=True)\n",
    "regroup['bad_rate'] = regroup.apply(lambda x :x.bad *1.0 /x.total, axis=1)#加上一列坏样本率\n",
    "dicts = dict(zip(regroup['addr_state'], regroup['bad_rate']))#每箱对应的坏样本率组成的字典\n",
    "\n",
    "N = sum(regroup['total'])\n",
    "B = sum(regroup['bad'])\n",
    "overallRate = B*1.0/N"
   ]
  },
  {
   "cell_type": "code",
   "execution_count": 22,
   "metadata": {},
   "outputs": [
    {
     "name": "stdout",
     "output_type": "stream",
     "text": [
      "6\n",
      "2\n",
      "14\n",
      "920\n",
      "51\n"
     ]
    }
   ],
   "source": [
    "'''\n",
    "#分箱，采用ChiMerge，要求分箱完之后：\n",
    "(1)不超过5箱\n",
    "（2）每箱同时包含好坏样本\n",
    "（3）特殊值，如-1单独成一箱\n",
    "连续型变量可以直接分箱\n",
    "类别型变量：\n",
    "（1）当取值较多的时候，先用bad_rate编码，再用连续型分箱的方式进行分箱\n",
    "（2）当取值较少时，如果每种类别同时包含好坏样本，则无需分箱，如果有类别只包含好坏样本的一种，需要合并\n",
    "\n",
    "'''\n",
    "\n",
    "\n",
    "cat_features =['home_ownership', 'desc', 'purpose', 'zip_code', 'addr_state']\n",
    "num_features = df.dtypes[df.dtypes != 'object'].index.tolist()\n",
    "num_features.pop(-3)\n",
    "\n",
    "more_value_features = []\n",
    "less_value_features = []\n",
    "#第一步，检查类别型变量中，哪些变量取值超过5\n",
    "for var in cat_features:\n",
    "    valueCounts = len(set(df[var]))\n",
    "    print(valueCounts)\n",
    "    if valueCounts >5:\n",
    "        more_value_features.append(var)#取值大于5的，需要bad_rate进行编码，然后运用卡方分箱\n",
    "    else:\n",
    "        less_value_features.append(var)\n",
    "        #取值小于5的，如果每种类别同时包含好坏样本，无需分箱，如果有类别只包含好坏一种，需要合并\n",
    "merge_bin_dict = {}#存放需要合并的变量以及合并方法\n",
    "var_bin_list = [] #由于某个取值没有好或坏样本而需要合并\n",
    "for col in less_value_features:\n",
    "    binBadRate = func.BinBadRate(df, col, 'y')[0]\n",
    "    if min(binBadRate.values() ) == 0:\n",
    "        print('{} need to  be combined due to 0 bad rate'.format(col))\n",
    "        combine_bin = func.MergeBad0(df, col, y)\n",
    "        merge_bin_dict[col] = combine_bin\n",
    "        newVar = col +'_Bin'\n",
    "        df[newVar] = df[col].map(combine_bin)\n",
    "        var_bin_list.append(newVar)\n",
    "    if max(binBadRate.values()) == 1:\n",
    "        print('{} need to be combined due to 1 bad rate'.format(col))\n",
    "        combine_bin = func.MergeBad0(df, col, y)\n",
    "        merge_bin_dict[col] = combine_bin\n",
    "        newVar = col + '_Bin'\n",
    "        df[newVar] = df[col].map(combine_bin)\n",
    "        var_bin_list.append(newVar)\n",
    "    \n",
    "#less_value_features里剩下不需要合并的变量\n",
    "less_value_features = [i for i in less_value_features if i + '_Bin' not in var_bin_list]\n",
    "less_value_features.append('verification_status')\n",
    "less_value_features.append('initial_list_status')"
   ]
  },
  {
   "cell_type": "code",
   "execution_count": 23,
   "metadata": {
    "collapsed": true
   },
   "outputs": [],
   "source": [
    "br_encoding_dict = {} #记录按照bad_rate进行编码的变量及编码方式\n",
    "for col in more_value_features:\n",
    "    br_encoding = func.BadRateEncoding(df, col, 'y')\n",
    "    df[col+'br_encoding'] = br_encoding['encoding']\n",
    "    br_encoding_dict[col] = br_encoding['bad_rate']\n",
    "    num_features.append(col + 'br_encoding')"
   ]
  },
  {
   "cell_type": "code",
   "execution_count": 24,
   "metadata": {},
   "outputs": [
    {
     "data": {
      "text/plain": [
       "'verification_status'"
      ]
     },
     "execution_count": 24,
     "metadata": {},
     "output_type": "execute_result"
    }
   ],
   "source": [
    "num_features.pop(7)\n",
    "\n"
   ]
  },
  {
   "cell_type": "code",
   "execution_count": 25,
   "metadata": {},
   "outputs": [
    {
     "data": {
      "text/plain": [
       "'initial_list_status'"
      ]
     },
     "execution_count": 25,
     "metadata": {},
     "output_type": "execute_result"
    }
   ],
   "source": [
    "num_features.pop(15)"
   ]
  },
  {
   "cell_type": "code",
   "execution_count": 26,
   "metadata": {},
   "outputs": [
    {
     "data": {
      "text/plain": [
       "'acc_now_delinq'"
      ]
     },
     "execution_count": 26,
     "metadata": {},
     "output_type": "execute_result"
    }
   ],
   "source": [
    "num_features.pop(-10)"
   ]
  },
  {
   "cell_type": "code",
   "execution_count": 27,
   "metadata": {},
   "outputs": [
    {
     "name": "stdout",
     "output_type": "stream",
     "text": [
      "loan_amnt 1371\n",
      "funded_amnt 1371\n",
      "funded_amnt_inv 7724\n",
      "int_rate 528\n",
      "grade 7\n",
      "emp_length 11\n",
      "annual_inc 37212\n",
      "dti 4034\n",
      "delinq_2yrs 26\n",
      "inq_last_6mths 28\n",
      "open_acc 71\n",
      "pub_rec 29\n",
      "revol_bal 63902\n",
      "revol_util 1287\n",
      "total_acc 125\n",
      "out_prncp_inv 168469\n",
      "total_pymnt 366498\n",
      "total_rec_late_fee 4500\n",
      "recoveries 14839\n",
      "collection_recovery_fee 13164\n",
      "collections_12_mths_ex_med 12\n",
      "tot_coll_amt 8948\n",
      "tot_cur_bal 258784\n",
      "total_rev_hi_lim 16419\n",
      "limit_income 88870\n",
      "earliest_cr_to_app 24\n",
      "home_ownershipbr_encoding 6\n",
      "purposebr_encoding 14\n",
      "zip_codebr_encoding 722\n",
      "addr_statebr_encoding 51\n"
     ]
    }
   ],
   "source": [
    "\n",
    "\n",
    "for var in num_features:  \n",
    "    valueCounts = len(set(df[var]))\n",
    "    print(var ,valueCounts)"
   ]
  },
  {
   "cell_type": "code",
   "execution_count": 28,
   "metadata": {},
   "outputs": [
    {
     "name": "stdout",
     "output_type": "stream",
     "text": [
      "loan_amnt is in processing\n",
      "funded_amnt is in processing\n",
      "funded_amnt_inv is in processing\n",
      "int_rate is in processing\n",
      "grade is in processing\n",
      "emp_length is in processing\n"
     ]
    },
    {
     "name": "stderr",
     "output_type": "stream",
     "text": [
      "E:\\py\\评分卡\\func.py:123: SettingWithCopyWarning: \n",
      "A value is trying to be set on a copy of a slice from a DataFrame.\n",
      "Try using .loc[row_indexer,col_indexer] = value instead\n",
      "\n",
      "See the caveats in the documentation: http://pandas.pydata.org/pandas-docs/stable/indexing.html#indexing-view-versus-copy\n",
      "  df2['temp'] = df2[col]\n",
      "E:\\py\\评分卡\\func.py:157: SettingWithCopyWarning: \n",
      "A value is trying to be set on a copy of a slice from a DataFrame.\n",
      "Try using .loc[row_indexer,col_indexer] = value instead\n",
      "\n",
      "See the caveats in the documentation: http://pandas.pydata.org/pandas-docs/stable/indexing.html#indexing-view-versus-copy\n",
      "  df2['temp_Bin'] = groupedvalues\n"
     ]
    },
    {
     "name": "stdout",
     "output_type": "stream",
     "text": [
      "annual_inc is in processing\n",
      "dti is in processing\n",
      "delinq_2yrs is in processing\n",
      "inq_last_6mths is in processing\n",
      "open_acc is in processing\n",
      "pub_rec is in processing\n",
      "revol_bal is in processing\n",
      "revol_util is in processing\n"
     ]
    },
    {
     "name": "stderr",
     "output_type": "stream",
     "text": [
      "E:\\py\\评分卡\\func.py:120: SettingWithCopyWarning: \n",
      "A value is trying to be set on a copy of a slice from a DataFrame.\n",
      "Try using .loc[row_indexer,col_indexer] = value instead\n",
      "\n",
      "See the caveats in the documentation: http://pandas.pydata.org/pandas-docs/stable/indexing.html#indexing-view-versus-copy\n",
      "  df2['temp'] = df2[col].map(lambda x: AssignGroup(x, split_x))\n"
     ]
    },
    {
     "name": "stdout",
     "output_type": "stream",
     "text": [
      "total_acc is in processing\n",
      "out_prncp_inv is in processing\n",
      "total_pymnt is in processing\n",
      "total_rec_late_fee is in processing\n",
      "recoveries is in processing\n",
      "collection_recovery_fee is in processing\n",
      "collections_12_mths_ex_med is in processing\n",
      "tot_coll_amt is in processing\n",
      "tot_cur_bal is in processing\n",
      "total_rev_hi_lim is in processing\n",
      "limit_income is in processing\n",
      "earliest_cr_to_app is in processing\n",
      "home_ownershipbr_encoding is in processing\n",
      "purposebr_encoding is in processing\n",
      "zip_codebr_encoding is in processing\n",
      "addr_statebr_encoding is in processing\n"
     ]
    }
   ],
   "source": [
    "#对连续型变量进行分箱，包括已经bad_rate编码后的类别型变量\n",
    "#from imp import reload\n",
    "#reload(func)\n",
    "continous_merged_dict = {}\n",
    "\n",
    "for col in num_features:\n",
    "    print(\"{} is in processing\".format(col))\n",
    "    if -1 not in set(df[col]): #-1当成特殊值处理\n",
    "        max_interval = 5\n",
    "        cutoff = func.chiMerge(df, col, 'y',max_interval = max_interval,\n",
    "                          special_attribute=[],minBinPcnt=0)\n",
    "        df[col + '_Bin'] = df[col].map(lambda x : func.AssignBin(x, cutoff, special_attribute=[]))\n",
    "        monotone = func.BadRateMonotone(df, col+'_Bin','y' )\n",
    "        while (not monotone):\n",
    "            #检验分箱后的单调性是否满足，如果不满足则缩减分箱的个数\n",
    "            max_interval -= 1\n",
    "            cutoff = func.chiMerge(df, col ,'y',max_interval = max_interval,\n",
    "                                  special_attribute =[], minBinPcnt=0)\n",
    "            df[col + '_Bin'] = df[col].map(lambda x : func.AssignBin(x, cutoff, special_attribute=[]))\n",
    "            if max_interval == 2:\n",
    "                #当分箱数为2时，必然单调\n",
    "                break\n",
    "            monotone = func.BadRateMonotone(df, col+'_Bin', 'y')\n",
    "        newVar = col + '_Bin'\n",
    "        df[newVar] = df[col].map(lambda x: func.AssignBin(x, cutoff,special_attribute=[]))\n",
    "        var_bin_list.append(newVar)\n",
    "        \n",
    "    else:\n",
    "        max_interval = 5\n",
    "        #如果有-1，则除去-1后，其他取值参与分箱\n",
    "        cutoff = func.chiMerge(df, col, 'y', max_interval=max_interval,\n",
    "                                  special_attribute =[-1], minBinPcnt=0)\n",
    "        df[col + '_Bin'] = df[col].map(lambda x : func.AssignBin(x, cutoff, special_attribute=[-1]))\n",
    "        monotone = func.BadRateMonotone(df, col+'_Bin', 'y',['Bin -1'])\n",
    "        while (not monotone):\n",
    "            max_interval -=1\n",
    "            #如果有-1，-1的bad_rate不参与单调性检验\n",
    "            cutoff = func.chiMerge(df, col,'y', max_interval=max_interval, \n",
    "                                  special_attribute=[-1], minBinPcnt=0)\n",
    "            df[col + '_Bin'] = df[col].map(lambda x : func.AssignBin(x, cutoff,\n",
    "                                                                    special_attribute=[-1]))\n",
    "            if max_interval == 3:\n",
    "                break\n",
    "            monotone = func.BadRateMonotone(df, col+'_Bin', 'y')\n",
    "        newVar = col + '_Bin'\n",
    "        df[newVar] = df[col].map(lambda x : func.AssignBin(x, cutoff, special_attribute=[-1]))\n",
    "        var_bin_list.append(newVar)\n",
    "    continous_merged_dict[col] = cutoff\n",
    "            \n",
    "        "
   ]
  },
  {
   "cell_type": "code",
   "execution_count": 29,
   "metadata": {},
   "outputs": [
    {
     "data": {
      "image/png": "[encoded data removed]",
      "text/plain": [
       "<matplotlib.figure.Figure at 0x3cb86cf8>"
      ]
     },
     "metadata": {},
     "output_type": "display_data"
    }
   ],
   "source": [
    "#WOE编码，计算IV\n",
    "from imp import reload\n",
    "reload(func)\n",
    "WOE_dict = {}\n",
    "IV_dict = {}\n",
    "#分箱后的变量进行编码，分别存储在less_value_features和var_bin_list中\n",
    "all_var = var_bin_list + less_value_features\n",
    "for var in all_var:\n",
    "    woe_iv = func.CalcWOE(df, var, 'y')\n",
    "    WOE_dict[var] = woe_iv['WOE']\n",
    "    IV_dict[var] = woe_iv['IV']\n",
    "\n",
    "    \n",
    "#将变量IV值进行降序排列，方便后续挑选变量\n",
    "IV_dict_sorted = sorted(IV_dict.items(), key=lambda x :x[1],reverse=True)\n",
    "\n",
    "IV_values = [i[1] for i in IV_dict_sorted]\n",
    "IV_name = [i[0] for i in IV_dict_sorted]\n",
    "plt.title('feature IV')\n",
    "plt.bar(range(len(IV_values)), IV_values)\n",
    "plt.show()"
   ]
  },
  {
   "cell_type": "code",
   "execution_count": 30,
   "metadata": {},
   "outputs": [
    {
     "data": {
      "image/png": "[encoded data removed]",
      "text/plain": [
       "<matplotlib.figure.Figure at 0x72a00400>"
      ]
     },
     "metadata": {},
     "output_type": "display_data"
    }
   ],
   "source": [
    "#单变量分析和多变量分析，均基于WOE编码后的值\n",
    "#（1）选择IV值高于0.01的变量\n",
    "#（2）比较两两线性相关性，如果相关系数的绝对值高于阈值，剔除IV较低的一个\n",
    "\n",
    "#选取IV>0.02的变量\n",
    "high_IV = {k : v for k, v in IV_dict.items() if v >=0.02}\n",
    "high_IV_sorted = sorted(high_IV.items(), key=lambda x : x[1], reverse=True)\n",
    "\n",
    "short_list = high_IV.keys()\n",
    "short_list_2 = []\n",
    "\n",
    "for var in short_list:\n",
    "    newVar = var + 'WOE'\n",
    "    df[newVar] = df[var].map(WOE_dict[var])\n",
    "    short_list_2.append(newVar)\n",
    "    \n",
    "\n",
    "#对于上一步的结果，计算相关系数矩阵，并画出热力图进行数据可视化\n",
    "dfWOE = df[short_list_2]\n",
    "f, ax = plt.subplots(figsize=(10,8))\n",
    "corr = dfWOE.corr()\n",
    "sns.heatmap(corr, mask=np.zeros_like(corr, dtype=np.bool), \n",
    "            cmap=sns.diverging_palette(220,10,as_cmap=True),square=True, ax=ax)\n",
    "\n",
    "    \n",
    "plt.show()\n"
   ]
  },
  {
   "cell_type": "code",
   "execution_count": 31,
   "metadata": {
    "collapsed": true
   },
   "outputs": [],
   "source": [
    "#两两间的线性相关性检验\n",
    "#1.将候选变量按照IV进行降序排列\n",
    "#2.计算第i和第i+1的变量的线性相关系数\n",
    "#3.对于系数超过阈值的两个变量，剔除IV较低的一个\n",
    "deleted_index = []\n",
    "cnt_vars = len(high_IV_sorted)\n",
    "for i in range(cnt_vars):\n",
    "    if i in deleted_index:\n",
    "        continue\n",
    "    x1 = high_IV_sorted[i][0] + \"WOE\"\n",
    "    for j in range(cnt_vars):\n",
    "        if i == j or j in deleted_index:\n",
    "            continue\n",
    "        y1 = high_IV_sorted[j][0] + \"WOE\"\n",
    "        roh = np.corrcoef(df[x1],df[y1])[0, 1]\n",
    "        if abs(roh) >0.7:\n",
    "            x1_IV = high_IV_sorted[i][1]\n",
    "            y1_IV = high_IV_sorted[j][1]\n",
    "            if x1_IV > y1_IV:\n",
    "                deleted_index.append(j)\n",
    "            else:\n",
    "                deleted_index.append(i)\n",
    "                \n",
    "multi_analysis_vars_1 = [high_IV_sorted[i][0] + \"WOE\" for i in range(cnt_vars) if i not in deleted_index]"
   ]
  },
  {
   "cell_type": "code",
   "execution_count": 49,
   "metadata": {},
   "outputs": [
    {
     "name": "stdout",
     "output_type": "stream",
     "text": [
      "1.5830798895038285\n"
     ]
    }
   ],
   "source": [
    "#多变量分析\n",
    "#VIF方差扩大因子，是指解释变量之间存在多重共线性时的方差与不存在多重共线性时的方差之比\n",
    "#VIF越大，显示共线性越严重，0<VIF<10,不存在共线性，10=<VIF<100，存在较强多重共线性,VIF>=100，存在严重多重共线性\n",
    "from statsmodels.stats.outliers_influence import variance_inflation_factor\n",
    "x = np.matrix(df[multi_analysis_vars_1])\n",
    "VIF_list = [variance_inflation_factor(x, i) for i in range(x.shape[1])]\n",
    "max_VIF = max(VIF_list)\n",
    "print(max_VIF)\n",
    "#不存在多重共线性\n",
    "multi_analysis = multi_analysis_vars_1"
   ]
  },
  {
   "cell_type": "code",
   "execution_count": 33,
   "metadata": {},
   "outputs": [
    {
     "name": "stderr",
     "output_type": "stream",
     "text": [
      "c:\\users\\xn070393\\appdata\\local\\programs\\python\\python35\\lib\\site-packages\\ipykernel_launcher.py:11: SettingWithCopyWarning: \n",
      "A value is trying to be set on a copy of a slice from a DataFrame.\n",
      "Try using .loc[row_indexer,col_indexer] = value instead\n",
      "\n",
      "See the caveats in the documentation: http://pandas.pydata.org/pandas-docs/stable/indexing.html#indexing-view-versus-copy\n",
      "  # This is added back by InteractiveShellApp.init_path()\n"
     ]
    }
   ],
   "source": [
    "#逻辑回归\n",
    "#要求变量显著，符号为负\n",
    "\n",
    "#将多重变量分析后的变量带入到LR模型中\n",
    "from sklearn.model_selection import train_test_split\n",
    "traindata, testdata = train_test_split(df, test_size=0.3)\n",
    "train_x = traindata[multi_analysis]\n",
    "test_x = testdata[multi_analysis]\n",
    "train_y = traindata['y']\n",
    "test_y = testdata['y']\n",
    "train_x['intercept'] = [1] * train_x.shape[0]\n"
   ]
  },
  {
   "cell_type": "code",
   "execution_count": 50,
   "metadata": {},
   "outputs": [
    {
     "name": "stdout",
     "output_type": "stream",
     "text": [
      "Optimization terminated successfully.\n",
      "         Current function value: 0.128386\n",
      "         Iterations 8\n",
      "                           Logit Regression Results                           \n",
      "==============================================================================\n",
      "Dep. Variable:                      y   No. Observations:               434765\n",
      "Model:                          Logit   Df Residuals:                   434750\n",
      "Method:                           MLE   Df Model:                           14\n",
      "Date:                Mon, 11 Jun 2018   Pseudo R-squ.:                  0.4208\n",
      "Time:                        10:30:33   Log-Likelihood:                -55818.\n",
      "converged:                       True   LL-Null:                       -96363.\n",
      "                                        LLR p-value:                     0.000\n",
      "====================================================================================================\n",
      "                                       coef    std err          z      P>|z|      [0.025      0.975]\n",
      "----------------------------------------------------------------------------------------------------\n",
      "recoveries_BinWOE                   -0.9174      0.010    -94.317      0.000      -0.936      -0.898\n",
      "out_prncp_inv_BinWOE                -0.7623      0.009    -86.741      0.000      -0.780      -0.745\n",
      "int_rate_BinWOE                     -0.6886      0.015    -44.565      0.000      -0.719      -0.658\n",
      "total_rec_late_fee_BinWOE           -0.9154      0.015    -62.756      0.000      -0.944      -0.887\n",
      "descWOE                              0.3343      0.027     12.356      0.000       0.281       0.387\n",
      "initial_list_statusWOE               0.1039      0.026      3.976      0.000       0.053       0.155\n",
      "tot_cur_bal_BinWOE                   0.7790      0.031     25.044      0.000       0.718       0.840\n",
      "inq_last_6mths_BinWOE               -0.2233      0.032     -6.948      0.000      -0.286      -0.160\n",
      "annual_inc_BinWOE                   -0.6481      0.036    -18.176      0.000      -0.718      -0.578\n",
      "zip_codebr_encoding_BinWOE          -0.8548      0.041    -20.737      0.000      -0.936      -0.774\n",
      "purposebr_encoding_BinWOE           -0.1211      0.045     -2.709      0.007      -0.209      -0.033\n",
      "total_pymnt_BinWOE                   0.6695      0.043     15.566      0.000       0.585       0.754\n",
      "home_ownershipbr_encoding_BinWOE    -0.4895      0.052     -9.466      0.000      -0.591      -0.388\n",
      "limit_income_BinWOE                 -0.9887      0.055    -17.866      0.000      -1.097      -0.880\n",
      "intercept                           -2.7142      0.010   -271.885      0.000      -2.734      -2.695\n",
      "====================================================================================================\n",
      "{'tot_cur_bal_BinWOE': 2.0233697405351417e-138, 'descWOE': 4.530937091148895e-35, 'total_rec_late_fee_BinWOE': 0.0, 'inq_last_6mths_BinWOE': 3.713306527318407e-12, 'zip_codebr_encoding_BinWOE': 1.599461302312639e-95, 'initial_list_statusWOE': 7.015096338582985e-05, 'out_prncp_inv_BinWOE': 0.0, 'intercept': 0.0, 'home_ownershipbr_encoding_BinWOE': 2.911414446373573e-21, 'limit_income_BinWOE': 2.1788731006980557e-71, 'purposebr_encoding_BinWOE': 0.006758615291131404, 'int_rate_BinWOE': 0.0, 'recoveries_BinWOE': 0.0, 'total_pymnt_BinWOE': 1.2458351904108095e-54, 'annual_inc_BinWOE': 7.995719792658352e-74}\n"
     ]
    }
   ],
   "source": [
    "LR = sm.Logit(train_y, train_x).fit()\n",
    "summary = LR.summary()\n",
    "print(summary)\n",
    "pvals = LR.pvalues\n",
    "pvals = pvals.to_dict()\n",
    "print(pvals)\n"
   ]
  },
  {
   "cell_type": "code",
   "execution_count": 39,
   "metadata": {},
   "outputs": [
    {
     "data": {
      "text/plain": [
       "dict_items([('tot_cur_bal_BinWOE', 7.638793830145418e-139), ('descWOE', 2.37048786185504e-34), ('total_rec_late_fee_BinWOE', 0.0), ('inq_last_6mths_BinWOE', 3.211221775202698e-12), ('zip_codebr_encoding_BinWOE', 1.4133154253333819e-95), ('initial_list_statusWOE', 8.621454579224229e-05), ('out_prncp_inv_BinWOE', 0.0), ('intercept', 0.0), ('home_ownershipbr_encoding_BinWOE', 6.794556818002352e-21), ('limit_income_BinWOE', 6.697258856892381e-72), ('purposebr_encoding_BinWOE', 0.006381994048566539), ('verification_statusWOE', 0.11041895241255566), ('int_rate_BinWOE', 0.0), ('recoveries_BinWOE', 0.0), ('total_pymnt_BinWOE', 6.3807996947577796e-55), ('annual_inc_BinWOE', 7.814466798151997e-74)])"
      ]
     },
     "execution_count": 39,
     "metadata": {},
     "output_type": "execute_result"
    }
   ],
   "source": [
    "pvals.items()"
   ]
  },
  {
   "cell_type": "code",
   "execution_count": 67,
   "metadata": {},
   "outputs": [
    {
     "name": "stderr",
     "output_type": "stream",
     "text": [
      "c:\\users\\xn070393\\appdata\\local\\programs\\python\\python35\\lib\\site-packages\\ipykernel_launcher.py:4: SettingWithCopyWarning: \n",
      "A value is trying to be set on a copy of a slice from a DataFrame.\n",
      "Try using .loc[row_indexer,col_indexer] = value instead\n",
      "\n",
      "See the caveats in the documentation: http://pandas.pydata.org/pandas-docs/stable/indexing.html#indexing-view-versus-copy\n",
      "  after removing the cwd from sys.path.\n"
     ]
    },
    {
     "name": "stdout",
     "output_type": "stream",
     "text": [
      "normalLR : ks 0.5981498229673522, auc 0.875277646353698\n"
     ]
    }
   ],
   "source": [
    "from imp import reload\n",
    "reload(func)\n",
    "summary = LR.summary()\n",
    "traindata['prob'] = LR.predict(train_x)\n",
    "ks = func.KS(traindata, 'prob', 'y')\n",
    "auc = roc_auc_score(traindata['y'], traindata['prob'])\n",
    "print('normalLR : ks {}, auc {}'.format(ks, auc))"
   ]
  },
  {
   "cell_type": "code",
   "execution_count": null,
   "metadata": {
    "collapsed": true
   },
   "outputs": [],
   "source": []
  }
 ],
 "metadata": {
  "kernelspec": {
   "display_name": "Python 3",
   "language": "python",
   "name": "python3"
  },
  "language_info": {
   "codemirror_mode": {
    "name": "ipython",
    "version": 3
   },
   "file_extension": ".py",
   "mimetype": "text/x-python",
   "name": "python",
   "nbconvert_exporter": "python",
   "pygments_lexer": "ipython3",
   "version": "3.5.4rc1"
  }
 },
 "nbformat": 4,
 "nbformat_minor": 2
}
